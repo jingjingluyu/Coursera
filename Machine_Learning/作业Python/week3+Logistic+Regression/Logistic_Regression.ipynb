{
 "cells": [
  {
   "cell_type": "markdown",
   "metadata": {
    "collapsed": true
   },
   "source": [
    "# Programming Exercise 2: Logistic Regression\n",
    "## Introduction\n",
    " 在这一次练习中，我们将要实现逻辑回归并且应用到一个分类任务。我们还将通过将正则化加入训练算法，来提高算法的鲁棒性，并用更复杂的情形来测试它。\n",
    "## 1 Logistic Regression\n",
    " In this part of the exercise, you will build a logistic regression model to predict whether a student gets admitted into a university.\n",
    " \n",
    " Suppose that you are the administrator of a university department and you want to determine each applicant’s chance of admission based on their results on two exams. You have historical data from previous applicants that you can use as a training set for logistic regression. For each training example, you have the applicant’s scores on two exams and the admissions decision.\n",
    " \n",
    " Your task is to build a classification model that estimates an applicant’s probability of admission based the scores from those two exams. "
   ]
  },
  {
   "cell_type": "markdown",
   "metadata": {},
   "source": [
    "所用到的Python库"
   ]
  },
  {
   "cell_type": "code",
   "execution_count": 1,
   "metadata": {
    "collapsed": true
   },
   "outputs": [],
   "source": [
    "import numpy as np\n",
    "import matplotlib.pyplot as plt\n",
    "from matplotlib import cm\n",
    "from scipy.optimize import minimize"
   ]
  },
  {
   "cell_type": "code",
   "execution_count": 2,
   "metadata": {},
   "outputs": [
    {
     "name": "stdout",
     "output_type": "stream",
     "text": [
      "First 8 examples from the dataset:\n",
      "X=[ 34.62365962  78.02469282] y=[ 0.]\n",
      "X=[ 30.28671077  43.89499752] y=[ 0.]\n",
      "X=[ 35.84740877  72.90219803] y=[ 0.]\n",
      "X=[ 60.18259939  86.3085521 ] y=[ 1.]\n",
      "X=[ 79.03273605  75.34437644] y=[ 1.]\n",
      "X=[ 45.08327748  56.31637178] y=[ 0.]\n",
      "X=[ 61.10666454  96.51142588] y=[ 1.]\n",
      "X=[ 75.02474557  46.55401354] y=[ 1.]\n"
     ]
    }
   ],
   "source": [
    "# Load data from exldata1.tex file\n",
    "# - column 1: first scores\n",
    "# - column 2: second scores\n",
    "# - column 3: the admission decision (1 pass) \n",
    "data = np.loadtxt('datas/ex2data1.txt', delimiter=',')\n",
    "\n",
    "# Split data into X and y\n",
    "X,y = np.hsplit(data,np.array([2]))\n",
    "\n",
    "# Print out some data points\n",
    "print(\"First 8 examples from the dataset:\")\n",
    "for i in range(8):\n",
    "    print(\"X=\"+str(X[i,:]),\"y=\"+str(y[i])) # 冒号的用法[i,:] 返回第i行所有元素"
   ]
  },
  {
   "cell_type": "markdown",
   "metadata": {},
   "source": [
    "### 1.1 Visualizing the data\n",
    "Before starting to implement any learning algorithm, it is always good to visualize the data if possible."
   ]
  },
  {
   "cell_type": "code",
   "execution_count": 3,
   "metadata": {},
   "outputs": [
    {
     "data": {
      "image/png": "[encoded data removed]",
      "text/plain": [
       "<matplotlib.figure.Figure at 0x10d6c1278>"
      ]
     },
     "metadata": {},
     "output_type": "display_data"
    }
   ],
   "source": [
    "# Plot data\n",
    "\"\"\"\n",
    "    PLOTDATA Plots the data points X and y into a new figure \n",
    "    PLOTDATA(x,y) plots the data points with + for the positive examples\n",
    "    and o for the negative examples. X is assumed to be a Mx2 matrix.\n",
    "\"\"\"\n",
    "def plotData(X,y,x1label='Admitted',x2label='Not admitted'):\n",
    "# Get the indices of positive and negative examples\n",
    "    pos=np.squeeze(y==1) \n",
    "    neg=np.squeeze(y==0)\n",
    "    plt.scatter(X[pos][:,0],X[pos][:,1],c='k',marker='+',label=x1label)\n",
    "    plt.scatter(X[neg][:,0],X[neg][:,1],c='y',marker='o',label=x2label)\n",
    "    plt.title(\"Scatter plot of training data\")\n",
    "    plt.xlabel(\"Exam 1 score\")\n",
    "    plt.ylabel(\"Exam 2 score\")\n",
    "    plt.legend()\n",
    "plotData(X,y)\n",
    "plt.show()"
   ]
  },
  {
   "cell_type": "markdown",
   "metadata": {},
   "source": [
    "### 1.2 Implementation\n",
    "#### 1.2.1 Warmup exercise: sigmoid function\n",
    "Before you start with the actual cost function, recall that the logistic regression hypothesis is defined as:\n",
    "$$h_{\\theta}(x) = g(\\theta ^T x)$$\n",
    "\n",
    "where function $g$ is the sigmoid function. The sigmoid function is defined as:\n",
    "$$g(z) = \\frac{1}{1+e^{-z}}$$\n",
    "\n",
    "\n",
    " \n"
   ]
  },
  {
   "cell_type": "code",
   "execution_count": 4,
   "metadata": {
    "collapsed": true
   },
   "outputs": [],
   "source": [
    "# Sigmoid Function\n",
    "def sigmoid(z):\n",
    "    \"\"\"\n",
    "    g = SIGMOID(z) computes the sigmoid of z.\n",
    "    You need to return the following variables correctly \n",
    "    \"\"\"\n",
    "    g=1/(1+np.exp(-z))\n",
    "    return g"
   ]
  },
  {
   "cell_type": "markdown",
   "metadata": {},
   "source": [
    "#### 1.2.2 Cost function and gradient\n",
    "Now you will implement the cost function and gradient for logistic regression.\n",
    "Recall that the cost function in logistic regression is\n",
    "$$J(\\theta) = \\frac{1}{m} \\sum_{i=1}^m [-y^{(i)} \\log(h_{\\theta}(x^{(i)})) - (1-y^{(i)})\\log(1-h_{\\theta}(x^{(i)}))]$$\n",
    "and the gradient of the cost is a vector of the same length as $\\theta$ where the $j^{\\text{th}}$ element (for $j = 0, 1, \\ldots, n$) is defined as follows:\n",
    "$$\\frac{\\partial J(\\theta)}{\\partial \\theta_j} = \\frac{1}{m} \\sum_{i=1}^m (h_{\\theta}(x^{(i)}) - y^{(i)})x_j^{(i)}$$"
   ]
  },
  {
   "cell_type": "code",
   "execution_count": 5,
   "metadata": {
    "collapsed": true
   },
   "outputs": [],
   "source": [
    "def costFunction(theta,X,y):\n",
    "    \"\"\"\n",
    "    COSTFUNCTION Compute cost and gradient for logistic regression\n",
    "    J = COSTFUNCTION(theta, X, y) computes the cost of using theta as the\n",
    "    parameter for logistic regression and the gradient of the cost\n",
    "    w.r.t. to the parameters.\n",
    "    \"\"\"\n",
    "    \n",
    "    # Arguments theta must be rank 1 array\n",
    "    theta = theta.reshape((theta.shape[0], 1))\n",
    "    \n",
    "    # Initialize some useful values\n",
    "    m=y.shape[0]  # number of training examples\n",
    "    \n",
    "    # Compute the cost J\n",
    "    J=np.sum(-y*np.log(sigmoid(np.dot(X,theta)))-(1-y)*np.log(1-sigmoid(np.dot(X,theta))))/m\n",
    "    \n",
    "    # Compute the gradients\n",
    "    grads=np.dot(X.T,sigmoid(np.dot(X,theta))-y)/m\n",
    "    \n",
    "    #Rerturn J and grads (grads should be a rank 1 array)\n",
    "    return J,grads.ravel()"
   ]
  },
  {
   "cell_type": "markdown",
   "metadata": {},
   "source": [
    "1. numpy.ravel()将多维数组降位一维\n",
    "   -  x = np.array([[1, 2], [3, 4]])\n",
    "     \n",
    "      x.ravel() 输出 array([1, 2, 3, 4])\n",
    "2. grad[True].T #turn grad from rank 1 array to column vector"
   ]
  },
  {
   "cell_type": "code",
   "execution_count": 6,
   "metadata": {},
   "outputs": [
    {
     "name": "stdout",
     "output_type": "stream",
     "text": [
      "Cost at initial theta (zeros):0.69314718056\n",
      "Expected cost (approx):0.693\n",
      "Gradient at initial theta (zeros):\n",
      "[ -0.1        -12.00921659 -11.26284221]\n",
      "Expected gradients (approx): \n",
      "[[ -0.1   ]\n",
      " [-12.0092]\n",
      " [-11.2628]]\n",
      "Cost at test theta:\n",
      "0.218330193827\n",
      "Expected cost (approx): 0.218\n",
      "Gradient at test theta: \n",
      "[ 0.04290299  2.56623412  2.64679737]\n",
      "Expected gradients (approx): \n",
      "[[ 0.043]\n",
      " [ 2.566]\n",
      " [ 2.647]]\n",
      "Program paused. Press enter to continue.\n"
     ]
    }
   ],
   "source": [
    "# Compute cost and gradient\n",
    "\n",
    "# Setup the data matrix appropriately, and add ones for the intercept term\n",
    "m,n=X.shape\n",
    "\n",
    "# Add intercept term to x and X_test\n",
    "X = np.hstack((np.ones((m,1)),X))\n",
    "\n",
    "# Initialize fitting parameters\n",
    "initial_theta = np.zeros((n + 1, 1))\n",
    "\n",
    "# Compute and display initial cost and gradient\n",
    "cost,grad=costFunction(initial_theta,X,y)\n",
    "\n",
    "print(\"Cost at initial theta (zeros):\"+str(cost))\n",
    "print(\"Expected cost (approx):0.693\")\n",
    "print(\"Gradient at initial theta (zeros):\")\n",
    "print(grad.T) # turn grad from rank 1 array to column vector\n",
    "print(\"Expected gradients (approx): \")\n",
    "print(np.array([[-0.1000], [-12.0092], [-11.2628]]))\n",
    "\n",
    "# Compute and display cost and gradient with non-zero theta\n",
    "test_theta=np.array([[-24],[0.2],[0.2]])\n",
    "cost,grad=costFunction(test_theta,X,y)\n",
    "\n",
    "print(\"Cost at test theta:\")\n",
    "print(cost)\n",
    "print(\"Expected cost (approx): 0.218\")\n",
    "print(\"Gradient at test theta: \")\n",
    "print(grad)\n",
    "print(\"Expected gradients (approx): \")\n",
    "print(np.array([[0.043], [2.566], [2.647]]))\n",
    "print(\"Program paused. Press enter to continue.\")"
   ]
  },
  {
   "cell_type": "markdown",
   "metadata": {},
   "source": [
    "#### 1.2.3 Learning parameters using fminunc\n",
    "In the previous assignment, you found the optimal parameters of a linear re- gression model by implementing gradent descent. You wrote a cost function and calculated its gradient, then took a gradient descent step accordingly."
   ]
  },
  {
   "cell_type": "code",
   "execution_count": 7,
   "metadata": {},
   "outputs": [
    {
     "name": "stdout",
     "output_type": "stream",
     "text": [
      "Cost at theta found by fminunc:\n",
      "0.20349770158944375\n",
      "Expected cost (approx): 0.203\n",
      "theta: \n",
      "[[-25.16133284]\n",
      " [  0.2062317 ]\n",
      " [  0.2014716 ]]\n",
      "Expected theta (approx): \n",
      "[[-25.161]\n",
      " [  0.206]\n",
      " [  0.201]]\n"
     ]
    },
    {
     "name": "stderr",
     "output_type": "stream",
     "text": [
      "/anaconda/lib/python3.6/site-packages/ipykernel_launcher.py:16: RuntimeWarning: divide by zero encountered in log\n",
      "  app.launch_new_instance()\n",
      "/anaconda/lib/python3.6/site-packages/ipykernel_launcher.py:16: RuntimeWarning: invalid value encountered in multiply\n",
      "  app.launch_new_instance()\n"
     ]
    }
   ],
   "source": [
    "# Optimizing using minimize\n",
    "# Note: `fminunc` in MATLAB/Octave uses Quasi-Newton method by default,\n",
    "# so I use *BFGS* (Quasi-Newton's implementation) here.\n",
    "# https://en.wikipedia.org/wiki/Quasi-Newton_method\n",
    "optimizeresult=minimize(fun=costFunction,x0=initial_theta.ravel(),args=(X,y),method='BFGS',jac=True,options={'maxiter':400})\n",
    "\n",
    "# print(optimizeResult)\n",
    "theta=optimizeresult.x\n",
    "theta=theta.reshape((theta.shape[0],1))\n",
    "cost=optimizeresult.fun\n",
    "\n",
    "#Print theta to screen\n",
    "print(\"Cost at theta found by fminunc:\")\n",
    "print(cost)\n",
    "print(\"Expected cost (approx): 0.203\")\n",
    "print(\"theta: \")\n",
    "print(theta)\n",
    "print(\"Expected theta (approx): \")\n",
    "print(np.array([[-25.161], [0.206], [0.201]]))"
   ]
  },
  {
   "cell_type": "markdown",
   "metadata": {},
   "source": [
    "1. scipy.optimize.minimize(fun, x0, args=(), method=None, jac=None, hess=None, hessp=None, bounds=None,\n",
    "   constraints=(), tol=None, callback=None, options=None)[source]\n",
    "   - fun:The objective function to be minimized. \n",
    "   -  x0:Initial guess. \n",
    "   - args:Extra arguments passed to the objective function and its derivatives (Jacobian, Hessian).\n",
    "   - method:'Nelder-Mead' 'Powell' 'BFGS' 'L-BFGS-B' .....\n",
    "   - options:A dictionary of solver options. maxiter:Maximum number of iterations to perform.\n",
    "   - jac:Jacobian (gradient) of objective function.\n",
    "2. 高级优化：如果我们能用这些方法来计算代价函数$J(\\theta)$和偏导数项$ \\frac{\\partial}{\\partial\\theta_j}J(\\theta)$两个项的话，那么这些算法就是为我们优化代价函数的不同方法，共轭梯度法 BFGS (变尺度法) 和 L-BFGS (限制变尺 度法) 就是其中一些更高级的优化算法，它们需要有一种方法来计算$J(\\theta)$，以及需要一种方 法计算导数项，然后使用比梯度下降更复杂的算法来最小化代价函数。梯度下降并不是我们可以使用的唯一算法，还有其他一些算法，更高级、更复杂。"
   ]
  },
  {
   "cell_type": "code",
   "execution_count": 8,
   "metadata": {
    "collapsed": true
   },
   "outputs": [],
   "source": [
    "# plot Boundary\n",
    "def plotDecisionBoundary(theta, X, y,lambd=1):\n",
    "    \"\"\"\n",
    "    PLOTDECISIONBOUNDARY Plots the data points X and y into a new figure with\n",
    "    the decision boundary defined by theta\n",
    "    PLOTDECISIONBOUNDARY(theta, X,y) plots the data points with + for the \n",
    "    positive examples and o for the negative examples. X is assumed to be \n",
    "    a either \n",
    "    1) Mx3 matrix, where the first column is an all-ones column for the \n",
    "       intercept.\n",
    "    2) MxN, N>3 matrix, where the first column is all-ones\n",
    "    \"\"\"\n",
    "    # Get the original data of X without the intercept term\n",
    "    X_orig = np.hsplit(X, np.array([1]))[1]\n",
    "    \n",
    "    if X_orig.shape[1] <=3:\n",
    "        # Plot the training data\n",
    "        plotData(X_orig, y)\n",
    "        # plot a straight line\n",
    "        # only need 2 points to define a line,so choose two endpoints\n",
    "        x1_min = X_orig.min(axis=0)[0]\n",
    "        x1_max = X_orig.max(axis=0)[0]\n",
    "        x1_plot = np.arange(x1_min, x1_max)\n",
    "        x2_plot = (0 - theta[0] - theta[1] * x1_plot) / theta[2]\n",
    "        plt.plot(x1_plot, x2_plot)\n",
    "        plt.axis([30, 100, 30, 100])\n",
    "    else:\n",
    "        # Plot the training data\n",
    "        figContour = plt.figure()\n",
    "        plotData(X_orig, y, \"y=1\", \"y=0\")\n",
    "        # Plot a contour\n",
    "        u = np.linspace(-1, 1.5, 50)\n",
    "        v = np.linspace(-1, 1.5, 50)\n",
    "        \n",
    "        z = np.zeros((u.shape[0], v.shape[0]))\n",
    "        # Evaluate z = theta * x over the grid\n",
    "        for i in range(u.shape[0]):\n",
    "            for j in range(v.shape[0]):\n",
    "                uArray = np.array([[u[i]]])\n",
    "                vArray = np.array([[v[j]]])\n",
    "                z[i][j] = np.dot(mapFeature(uArray, vArray), theta)\n",
    "\n",
    "        \n",
    "        # Make the meshgrid\n",
    "        u, v = np.meshgrid(u, v)\n",
    "                \n",
    "        z = z.T # important to transpoze z before calling contour\n",
    "        \n",
    "        # Contour plot\n",
    "        plt.contour(u, v, z, np.array([0]))\n",
    "        plt.xlabel(\"Microchip Test 1\")\n",
    "        plt.ylabel(\"Microchip Test 2\")\n",
    "        plt.title(r\"Training data with decision boundary ($\\lambda$ = \"+ str(lambd) + \")\")"
   ]
  },
  {
   "cell_type": "code",
   "execution_count": 9,
   "metadata": {},
   "outputs": [
    {
     "data": {
      "image/png": "[encoded data removed]",
      "text/plain": [
       "<matplotlib.figure.Figure at 0x110a88908>"
      ]
     },
     "metadata": {},
     "output_type": "display_data"
    }
   ],
   "source": [
    "# Plot the decision boundary\n",
    "plotDecisionBoundary(theta, X, y)\n",
    "plt.title(\"Training data with decision boundary\")\n",
    "plt.show()"
   ]
  },
  {
   "cell_type": "markdown",
   "metadata": {},
   "source": [
    "#### 1.2.4 Evaluating logistic regression\n",
    "After learning the parameters, you can use the model to predict whether a particular student will be admitted. For a student with an Exam 1 score of 45 and an Exam 2 score of 85, you should expect to see an admission probability of 0.776.\n",
    "\n",
    "Another way to evaluate the quality of the parameters we have found is to see how well the learned model predicts on our training set. The predict function will produce “1” or “0” predictions given a dataset and a learned parameter vector θ."
   ]
  },
  {
   "cell_type": "code",
   "execution_count": 10,
   "metadata": {},
   "outputs": [
    {
     "name": "stdout",
     "output_type": "stream",
     "text": [
      "For a student with scores 45 and 85, we predict an admission ...probability of 0.7762907240588949\n",
      "Expected value: 0.775 +/- 0.002\n"
     ]
    }
   ],
   "source": [
    "# Predict probability for a student with score 45 on exam 1 and score 85 on exam 2 \n",
    "prob = np.squeeze(sigmoid(np.dot(np.array([[1,45,85]]), theta))) # 进行维度压缩，使prob变成一个数，而不是1*1的\n",
    "print(\"For a student with scores 45 and 85, we predict an admission ...probability of \" +str(prob))\n",
    "print(\"Expected value: 0.775 +/- 0.002\")"
   ]
  },
  {
   "cell_type": "code",
   "execution_count": 11,
   "metadata": {
    "collapsed": true
   },
   "outputs": [],
   "source": [
    "def predict(theta,X):\n",
    "    \"\"\"\n",
    "    PREDICT Predict whether the label is 0 or 1 using learned logistic \n",
    "    regression parameters theta\n",
    "    p = PREDICT(theta, X) computes the predictions for X using a \n",
    "    threshold at 0.5 (i.e., if sigmoid(theta'*x) >= 0.5, predict 1)\n",
    "    \"\"\"\n",
    "    m=y.shape[0] # Number of training examples\n",
    "    \n",
    "    # You need to return the following variables correctly\n",
    "    p=np.zeros((m,1))\n",
    "    \n",
    "    h=sigmoid(np.dot(X,theta))\n",
    "    p[h>=0.5]=1\n",
    "    return p"
   ]
  },
  {
   "cell_type": "markdown",
   "metadata": {},
   "source": [
    "1. 不能用 if h >= 0.5: p=1\n",
    "   出错：The truth value of an array with more than one element is ambiguous. Use a.any() or a.all()\n",
    "   原因：只能计算单个值了，如果传入的是一个array，自然就会报错"
   ]
  },
  {
   "cell_type": "code",
   "execution_count": 12,
   "metadata": {},
   "outputs": [
    {
     "name": "stdout",
     "output_type": "stream",
     "text": [
      "Train Accuracy: 89.0\n",
      "Expected accuracy (approx): 89.0\n"
     ]
    }
   ],
   "source": [
    "# Compute accuracy on our training set\n",
    "p=predict(theta,X)\n",
    "result= np.sum(p==y)/m*100\n",
    "print(\"Train Accuracy: \"+ str(result))\n",
    "print(\"Expected accuracy (approx): 89.0\")\n"
   ]
  },
  {
   "cell_type": "markdown",
   "metadata": {},
   "source": [
    "## 2. Regularized logistic regression\n",
    "In this part of the exercise, you will implement regularized logistic regression to predict whether microchips from a fabrication plant passes quality assurance (QA). During QA, each microchip goes through various tests to ensure it is functioning correctly.\n",
    "\n",
    "Suppose you are the product manager of the factory and you have the test results for some microchips on two different tests. From these two tests, you would like to determine whether the microchips should be accepted or rejected. To help you make the decision, you have a dataset of test results on past microchips, from which you can build a logistic regression model."
   ]
  },
  {
   "cell_type": "markdown",
   "metadata": {},
   "source": [
    "### 2.1. Visualizing thet data\n",
    "Similar to the previous parts of this exercise, `plotData` is used to generate a figure of the data, where the axes are the two test scores and the positive ($y = 1$, accepted) and negative ($y = 0$, rejected) examples\n",
    "are shown with different markers.\n",
    "\n",
    "But the data of `data/ex2/ex2data1.txt` cannot be separated into positive and negative examples by a straight-line through the plot. Therefore, a straight-forward application of logistic regression will only be able to find a linear decision boundary."
   ]
  },
  {
   "cell_type": "code",
   "execution_count": 13,
   "metadata": {},
   "outputs": [
    {
     "data": {
      "image/png": "[encoded data removed]",
      "text/plain": [
       "<matplotlib.figure.Figure at 0x1055d12e8>"
      ]
     },
     "metadata": {},
     "output_type": "display_data"
    }
   ],
   "source": [
    "# Load Data\n",
    "# - column 1: score of microchip test 1\n",
    "# - column 2: score of microchip test 2\n",
    "# - column 3: accepted (1) or not (0)\n",
    "data = np.loadtxt('datas/ex2data2.txt',delimiter=',')\n",
    "X, y=np.hsplit(data,np.array([2]))\n",
    "\n",
    "#Specified in plot order\n",
    "plotData(X, y, \"y=1\", \"y=0\")\n",
    "\n",
    "# Labels and Legend\n",
    "plt.xlabel(\"Microchip Test 1\")\n",
    "plt.ylabel(\"Microchip Test 2\")\n",
    "plt.title(\"Plot of training data\")\n",
    "\n",
    "plt.show()"
   ]
  },
  {
   "cell_type": "markdown",
   "metadata": {},
   "source": [
    "### 2.2. Feature mapping\n",
    "One way to fit the data better is to create more features from each data point. In the function `mapFeature`, we will map the features into all polynomial terms of $x_1$ and $x_2$ up to the sixth power.\n",
    "$$\\text{mapFeature}(x) = \\left[\\begin{array}{c} 1 \\\\ x_1 \\\\ x_2 \\\\ x_2 \\\\ x_1^2 \\\\ x_1 x_2 \\\\ x_2^2 \\\\ x_1^3 \\\\ \\vdots \\\\ x_1 \\\\ x_2^5 \\\\ x_2^6 \\end{array} \\right]$$\n",
    "\n",
    "As a result of this mapping, our vector of two features (the scores on two QA tests) has been transformed into a 28-dimensional vector. A logistic regression classifier trained on this higher-dimension feature vector will have a more complex decision boundary and will appear nonlinear when drawn in our 2-dimensional plot.\n",
    "\n",
    "While the feature mapping allows us to build a more expressive classifier, it is also more susceptible to overfitting. In the next parts of the exercise, you will implement regularized logistic regression to fit the data and also see for yourself how regularization can help cambat the overfitting problem."
   ]
  },
  {
   "cell_type": "code",
   "execution_count": 14,
   "metadata": {
    "collapsed": true
   },
   "outputs": [],
   "source": [
    "def mapFeature(X1,X2):\n",
    "    \"\"\"\n",
    "    MAPFEATURE Feature mapping function to polynomial features\n",
    "    MAPFEATURE(X1, X2) maps the two input features\n",
    "    to quadratic features used in the regularization exercise.\n",
    "    \n",
    "    Returns a new feature array with more features, comprising of \n",
    "    X1, X2, X1.^2, X2.^2, X1*X2, X1*X2.^2, etc..\n",
    "\n",
    "    Inputs X1, X2 must be the same size\n",
    "    \"\"\"\n",
    "    degree = 6\n",
    "    result=np.ones((X1.shape[0],1))\n",
    "    for i in range(degree+1):\n",
    "        for j in range(i+1):\n",
    "            result=np.hstack((result,np.power(X1,i-j)*np.power(X2,j)))\n",
    "    \n",
    "    return result"
   ]
  },
  {
   "cell_type": "code",
   "execution_count": 15,
   "metadata": {
    "collapsed": true
   },
   "outputs": [],
   "source": [
    "# Note that mapFeature also adds a column of ones, so the intercept\n",
    "# term is handled\n",
    "X= mapFeature(X[:, [0]], X[:, [1]])"
   ]
  },
  {
   "cell_type": "markdown",
   "metadata": {},
   "source": [
    "### 2.3. Cost function and gradient\n",
    "\n",
    "Now you will implement code to compute the cost function and gradient for regularized logistic regression. Complete the code in `costFunctionReg` function to return the cost and gradient.\n",
    "\n",
    "Recall that the regularized cost function in logistic regression is\n",
    "$$ J(\\theta) = \\frac{1}{m} [-y^{(i)} \\log (h_{\\theta}(x^{(i)})) - (1-y^{(i)}) \\log (1-h_{\\theta}(x^{(i)}))] + \\frac{\\lambda}{2m} \\sum_{j=1}^n \\theta_j^2 $$\n",
    "\n",
    "Note that you should not regularize the parameter $\\theta_0$. The gradient of the cost function is a vector where the $j^\\text{th}$ element is defined as follows:\n",
    "$$ \\frac{\\partial J(\\theta)}{\\partial \\theta_0} = \\frac{1}{m} \\sum_{i=1}^m (h_{\\theta}(x^{(i)}) - y^{(i)}) x_j^{(i)} \\qquad \\text{for } j = 0 $$\n",
    "$$ \\frac{\\partial J(\\theta)}{\\partial \\theta_j} = \\left(\\frac{1}{m} \\sum_{i=1}^m (h_{\\theta}(x^{(i)} - y^{(i)}) x_j^{(i)}\\right) + \\frac{\\lambda}{m} \\theta_j \\qquad \\text{for } j \\geq 1 $$\n",
    "\n",
    "Once you are done, the script will call your `costFunctionReg` function using the initial value of $\\theta$ (initialized to all zeros). You should see that the cost is about 0.693."
   ]
  },
  {
   "cell_type": "code",
   "execution_count": 16,
   "metadata": {
    "collapsed": true
   },
   "outputs": [],
   "source": [
    "def costFunctionReg(theta,X,y,lambd):\n",
    "    \"\"\"\n",
    "    COSTFUNCTIONREG Compute cost and gradient for logistic regression with regularization\n",
    "    J = COSTFUNCTIONREG(theta, X, y, lambda) computes the cost of using\n",
    "    theta as the parameter for regularized logistic regression and the\n",
    "    gradient of the cost w.r.t. to the parameters. \n",
    "    \"\"\"\n",
    "    #Arguments theta must be rank 1 array\n",
    "    theta=theta.reshape((theta.shape[0],1))\n",
    "    # Initialize some useful values\n",
    "    m=y.shape[0]\n",
    "    \n",
    "    # costfunction\n",
    "    J=np.sum(-y*np.log(sigmoid(np.dot(X,theta))) \\\n",
    "             -(1-y)*np.log(1-sigmoid(np.dot(X,theta))))/m \\\n",
    "            +np.dot(theta[1:].T,theta[1:])*lambd/(2*m)\n",
    "    J=np.squeeze(J) # J是一个数组，要提出数 \n",
    "                      #squeeze the J into a number val from [[val]]\n",
    "    # Compute the gradients\n",
    "    grads= np.dot(X.T,sigmoid(np.dot(X,theta))-y)/m + lambd/m*theta\n",
    "    grads[0]=grads[0]-lambd/m*theta[0]\n",
    "    return J, grads.ravel()"
   ]
  },
  {
   "cell_type": "markdown",
   "metadata": {},
   "source": [
    "#### 2.3.1. Learning parameters using `minimize`\n",
    "Similar to the previous parts, you will use `minimize` to learn the optimal parameters $\\theta$. If you have completed the cost and gradient for regularized logistic regression (`costFunctionReg`) correctly, you should be able to step through the next part to learn the parameters $\\theta$ using `minimize`."
   ]
  },
  {
   "cell_type": "code",
   "execution_count": 17,
   "metadata": {},
   "outputs": [
    {
     "name": "stdout",
     "output_type": "stream",
     "text": [
      "Train Accuracy: 83.0508474576\n",
      "Expected accuracy (with lambd = 1) (approx): 83.1\n"
     ]
    }
   ],
   "source": [
    "# Initialize fitting parameters\n",
    "initial_theta = np.zeros((X.shape[1], 1))\n",
    "m=y.shape[0]\n",
    "# Set regularization parameter lambd to 1\n",
    "lambd = 1\n",
    "\n",
    "# Optimizing using minimize\n",
    "optimizeResult = minimize(fun=costFunctionReg, x0=initial_theta.ravel(), \\\n",
    "                          args=(X, y, lambd), \\\n",
    "                          method='BFGS', jac=True, \\\n",
    "                          options={'maxiter':400})\n",
    "# print(optimizeResult)\n",
    "\n",
    "theta = optimizeResult.x\n",
    "theta = theta.reshape((theta.shape[0], 1))\n",
    "cost = optimizeResult.fun\n",
    "\n",
    "# Compute accuracy on our training set\n",
    "p = predict(theta, X)\n",
    "accuracy = np.sum(p == y) / m * 100  # when sum, True as 1, False as 0\n",
    "print(\"Train Accuracy: \" + str(accuracy))\n",
    "print(\"Expected accuracy (with lambd = 1) (approx): 83.1\")"
   ]
  },
  {
   "cell_type": "markdown",
   "metadata": {},
   "source": [
    "### 2.4. Plotting the decision boundary\n",
    "To help you visualize the model learned by this classifier, `plotDecisionBoundary` will plot the decision boundary that separates the positive and negative examples. In `plotDecisionBoundary`, we plot the non-linear decision boundary by computing the classifier's predictions on an evenly spaced grid and then drew a contour plot of where the predictions change from $y = 0$ to $y = 1$."
   ]
  },
  {
   "cell_type": "code",
   "execution_count": 21,
   "metadata": {},
   "outputs": [
    {
     "data": {
      "image/png": "[encoded data removed]",
      "text/plain": [
       "<matplotlib.figure.Figure at 0x110e3f2b0>"
      ]
     },
     "metadata": {},
     "output_type": "display_data"
    }
   ],
   "source": [
    "# Plot Boundary\n",
    "plotDecisionBoundary(theta,X,y)\n",
    "plt.show()"
   ]
  },
  {
   "cell_type": "markdown",
   "metadata": {},
   "source": [
    "### 2.5. Try out different regularization parameters\n",
    "In this part of the exercise, you will get to try different regularization parameters for the dataset to understand how regularization prevents overfitting.\n",
    "\n",
    "Notice the changes in the decision boundary as you vary $\\lambda$. With a small $\\lambda$, you should find that the classifier gets almost every training example correct, but draws a very complicated boundary, thus overfitting the data. This is not a good decision boundary: for example, it predicts that a point at $x = (-0.25, 1.5)$ is accepted ($y = 1$), which seems to be an incorrect decision given the training set.\n",
    "\n",
    "With a larger $\\lambda$, you should see a plot that shows an simpler decision boundary which still separates the positive and negative fairly well. However, if $\\lambda$ is set too high a value, you will not get a good fit and the decision boundary will not follow the data so well, thus underfitting the data."
   ]
  },
  {
   "cell_type": "code",
   "execution_count": 19,
   "metadata": {
    "collapsed": true
   },
   "outputs": [],
   "source": [
    "def model(X,y,lambd,initial_theta):\n",
    "    # Optimizing using minimize\n",
    "    optimizeResult=minimize(fun=costFunctionReg, x0=initial_theta.ravel(), \\\n",
    "                              args=(X, y, lambd), \\\n",
    "                              method='BFGS', jac=True, \\\n",
    "                              options={'maxiter':400})\n",
    "    theta = optimizeResult.x\n",
    "    theta = theta.reshape((theta.shape[0], 1))\n",
    "    \n",
    "    return theta"
   ]
  },
  {
   "cell_type": "code",
   "execution_count": 20,
   "metadata": {},
   "outputs": [
    {
     "data": {
      "image/png": "[encoded data removed]",
      "text/plain": [
       "<matplotlib.figure.Figure at 0x110e24588>"
      ]
     },
     "metadata": {},
     "output_type": "display_data"
    },
    {
     "data": {
      "image/png": "[encoded data removed]",
      "text/plain": [
       "<matplotlib.figure.Figure at 0x110cac898>"
      ]
     },
     "metadata": {},
     "output_type": "display_data"
    },
    {
     "data": {
      "image/png": "[encoded data removed]",
      "text/plain": [
       "<matplotlib.figure.Figure at 0x10b2df3c8>"
      ]
     },
     "metadata": {},
     "output_type": "display_data"
    }
   ],
   "source": [
    "# Initialize fitting parameters\n",
    "initial_theta = np.zeros((X.shape[1], 1))\n",
    "# Set regularization parameter lambd to 1\n",
    "lambdArray = [1, 0, 100]\n",
    "\n",
    "for lambd in lambdArray:\n",
    "    theta = model(X, y, lambd, initial_theta)\n",
    "    plotDecisionBoundary(theta, X, y, lambd)\n",
    "    plt.show()"
   ]
  },
  {
   "cell_type": "code",
   "execution_count": null,
   "metadata": {
    "collapsed": true
   },
   "outputs": [],
   "source": []
  },
  {
   "cell_type": "code",
   "execution_count": null,
   "metadata": {
    "collapsed": true
   },
   "outputs": [],
   "source": []
  }
 ],
 "metadata": {
  "kernelspec": {
   "display_name": "Python 3",
   "language": "python",
   "name": "python3"
  },
  "language_info": {
   "codemirror_mode": {
    "name": "ipython",
    "version": 3
   },
   "file_extension": ".py",
   "mimetype": "text/x-python",
   "name": "python",
   "nbconvert_exporter": "python",
   "pygments_lexer": "ipython3",
   "version": "3.6.1"
  }
 },
 "nbformat": 4,
 "nbformat_minor": 2
}
